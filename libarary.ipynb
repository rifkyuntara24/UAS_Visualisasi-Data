{
 "cells": [
  {
   "cell_type": "code",
   "execution_count": null,
   "id": "894a850a",
   "metadata": {},
   "outputs": [],
   "source": [
    "# Panggil library Pandas\n",
    "import pandas as pd\n",
    "\n",
    "# --- Sintaks Memuat Data ---\n",
    "\n",
    "# Contoh 1: Memuat dari file CSV\n",
    "# Asumsikan ada file 'data_penjualan.csv' di folder yang sama\n",
    "df_penjualan = pd.read_csv('data_penjualan.csv')\n",
    "print(\"Data Penjualan (CSV) berhasil dimuat:\")\n",
    "print(df_penjualan.head()) # Tampilkan 5 baris pertama\n",
    "\n",
    "print(\"\\n\" + \"=\"*50 + \"\\n\") # Pemisah\n",
    "\n",
    "# Contoh 2: Memuat dari file Excel\n",
    "# Asumsikan ada file 'data_karyawan.xlsx' di folder yang sama\n",
    "df_karyawan = pd.read_excel('data_karyawan.xlsx')\n",
    "print(\"Data Karyawan (Excel) berhasil dimuat:\")\n",
    "print(df_karyawan.head()) # Tampilkan 5 baris pertamaa"
   ]
  },
  {
   "cell_type": "code",
   "execution_count": null,
   "id": "40625f84",
   "metadata": {},
   "outputs": [],
   "source": [
    "# Panggil library NumPy\n",
    "import numpy as np\n",
    "\n",
    "# --- Sintaks Membuat/Memanipulasi Array ---\n",
    "\n",
    "# Contoh 1: Membuat array sederhana\n",
    "array_sederhana = np.array([1, 2, 3, 4, 5])\n",
    "print(\"Array Sederhana:\")\n",
    "print(array_sederhana)\n",
    "\n",
    "print(\"\\n\" + \"=\"*50 + \"\\n\") # Pemisah\n",
    "\n",
    "# Contoh 2: Membuat array 2D (matriks)\n",
    "matriks_data = np.array([[10, 20, 30],\n",
    "                         [40, 50, 60],\n",
    "                         [70, 80, 90]])\n",
    "print(\"Matriks Data:\")\n",
    "print(matriks_data)\n",
    "\n",
    "print(\"\\n\" + \"=\"*50 + \"\\n\") # Pemisah\n",
    "\n",
    "# Contoh 3: Mengonversi kolom DataFrame ke array NumPy\n",
    "# Kita gunakan df_penjualan dari contoh Pandas di atas\n",
    "if 'df_penjualan' in locals(): # Pastikan df_penjualan sudah ada\n",
    "    harga_barang = df_penjualan['harga'].to_numpy() # Asumsikan ada kolom 'harga'\n",
    "    print(\"Kolom 'harga' dari DataFrame sebagai NumPy Array:\")\n",
    "    print(harga_barang)\n",
    "else:\n",
    "    print(\"DataFrame 'df_penjualan' tidak ditemukan, tidak bisa konversi ke NumPy array.\")"
   ]
  },
  {
   "cell_type": "code",
   "execution_count": null,
   "id": "6df358ab",
   "metadata": {},
   "outputs": [],
   "source": [
    " "
   ]
  }
 ],
 "metadata": {
  "language_info": {
   "name": "python"
  }
 },
 "nbformat": 4,
 "nbformat_minor": 5
}
